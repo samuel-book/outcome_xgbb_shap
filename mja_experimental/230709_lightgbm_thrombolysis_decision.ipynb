{
 "cells": [
  {
   "cell_type": "markdown",
   "metadata": {},
   "source": [
    "# Thrombolysis decision model with LightGBM"
   ]
  },
  {
   "cell_type": "code",
   "execution_count": 1,
   "metadata": {},
   "outputs": [],
   "source": [
    "import warnings\n",
    "warnings.filterwarnings(\"ignore\")\n",
    "\n",
    "\n",
    "import matplotlib.pyplot as plt\n",
    "import numpy as np\n",
    "import pandas as pd\n",
    "import scipy\n",
    "import shap\n",
    "\n",
    "from dataclasses import dataclass\n",
    "from lightgbm import LGBMClassifier\n",
    "from sklearn.metrics import roc_auc_score"
   ]
  },
  {
   "cell_type": "code",
   "execution_count": 2,
   "metadata": {},
   "outputs": [],
   "source": [
    "@dataclass(frozen=True)\n",
    "class Paths:\n",
    "    '''Singleton object for storing paths to data.'''\n",
    "\n",
    "    output_save_path: str = './output/'\n",
    "    data_read_path: str = '../data/kfold_5fold'\n",
    "    notebook: str = 'expt_'\n",
    "    model_text: str = 'lgbm'\n",
    "\n",
    "paths = Paths()"
   ]
  },
  {
   "cell_type": "code",
   "execution_count": 4,
   "metadata": {},
   "outputs": [],
   "source": [
    "selected_features = [\n",
    "    'stroke_team_id',\n",
    "    'age',\n",
    "    'infarction',\n",
    "    'onset_to_arrival_time',\n",
    "    'precise_onset_known',\n",
    "    'onset_during_sleep',\n",
    "    'arrival_to_scan_time',\n",
    "    'afib_anticoagulant',\n",
    "    'prior_disability',\n",
    "    'stroke_severity',\n",
    "    'thrombolysis'\n",
    "]\n",
    "\n",
    "train_data, test_data = [], []\n",
    "\n",
    "def show_thrombolysis_use(row):\n",
    "    return 0 if row['scan_to_thrombolysis_time'] == -100 else 1\n",
    "\n",
    "for i in range(5):\n",
    "    # Load traing data\n",
    "    loaded_data = pd.read_csv(paths.data_read_path + f'/03_train_{i}.csv')\n",
    "    # Convert time to thrombolysis to use of thrombolysis\n",
    "    loaded_data['thrombolysis'] = loaded_data.apply(show_thrombolysis_use, axis=1)\n",
    "    # Restrict data columns\n",
    "    loaded_data = loaded_data[selected_features]\n",
    "    # Convert stroke_team_id to category\n",
    "    loaded_data['stroke_team_id'] = loaded_data['stroke_team_id'].astype('category')\n",
    "    train_data.append(loaded_data)\n",
    "\n",
    "    # Load traing data\n",
    "    loaded_data = pd.read_csv(paths.data_read_path + f'/03_test_{i}.csv')\n",
    "    # Convert time to thrombolysis to use of thrombolysis\n",
    "    loaded_data['thrombolysis'] = loaded_data.apply(show_thrombolysis_use, axis=1)\n",
    "    # Restrict data columns\n",
    "    loaded_data = loaded_data[selected_features]\n",
    "    # Convert stroke_team_id to category\n",
    "    loaded_data['stroke_team_id'] = loaded_data['stroke_team_id'].astype('category')\n",
    "    test_data.append(loaded_data)"
   ]
  },
  {
   "cell_type": "code",
   "execution_count": null,
   "metadata": {},
   "outputs": [],
   "source": []
  },
  {
   "cell_type": "code",
   "execution_count": null,
   "metadata": {},
   "outputs": [],
   "source": []
  }
 ],
 "metadata": {
  "kernelspec": {
   "display_name": "sam10",
   "language": "python",
   "name": "python3"
  },
  "language_info": {
   "codemirror_mode": {
    "name": "ipython",
    "version": 3
   },
   "file_extension": ".py",
   "mimetype": "text/x-python",
   "name": "python",
   "nbconvert_exporter": "python",
   "pygments_lexer": "ipython3",
   "version": "3.10.10"
  },
  "orig_nbformat": 4
 },
 "nbformat": 4,
 "nbformat_minor": 2
}
