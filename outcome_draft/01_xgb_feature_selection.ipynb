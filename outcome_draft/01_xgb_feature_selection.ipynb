{
 "cells": [
  {
   "attachments": {},
   "cell_type": "markdown",
   "metadata": {},
   "source": [
    "# XGBoost feature selection\n",
    "\n",
    "## Summary (plain English)\n",
    "\n",
    "### Aim\n",
    "\n",
    "The aim is to identify the most important features that are predictive of patient outcome, and to select those features we will use in a simplified model from this point on wards.\n",
    "\n",
    "### Methods\n",
    "\n",
    "We measure accuracy (as 'ROC-AUC') across five train/test data splits. We pick one feature ata time that most increases accuracy and select that feature for all further model fits.\n",
    "\n",
    "### Results\n",
    "\n",
    "The ROC-AUC with all data was 0.816. A model with 7 features could achieve an ROC-AUC of 0.815. These features (in order of importance) were:\n",
    "\n",
    "1. Prior disability\n",
    "2. Stroke severity\n",
    "3. Stroke Team\n",
    "4. Age\n",
    "5. Year\n",
    "6. Level of consciousness on arrival\n",
    "7. Scan to thrombolysis time (this was set to 9999 minutes for those who did not receive thrombolysis)\n",
    "\n",
    "Of these 7 features we chose not to use two of the features:\n",
    "\n",
    "1. Year, as we are looking to find general patterns across years\n",
    "2. Level of consciousness on arrival, as this is part of the stroke severity score, and so confounds the effect of stroke severity.\n",
    "\n",
    "### Conclusions\n",
    "\n",
    "Five features will be used in all further outcome modelling:\n",
    "\n",
    "1. Prior disability\n",
    "2. Stroke severity\n",
    "3. Stroke Team\n",
    "4. Age\n",
    "5. Scan to thrombolysis time (this was set to 9999 minutes for those who did not receive thrombolysis)"
   ]
  },
  {
   "attachments": {},
   "cell_type": "markdown",
   "metadata": {},
   "source": [
    "## Import libraries"
   ]
  },
  {
   "cell_type": "code",
   "execution_count": 1,
   "metadata": {},
   "outputs": [],
   "source": [
    "# Turn warnings off to keep notebook tidy\n",
    "import warnings\n",
    "warnings.filterwarnings(\"ignore\")\n",
    "\n",
    "import os\n",
    "import matplotlib.pyplot as plt\n",
    "import numpy as np\n",
    "import pandas as pd\n",
    "\n",
    "import scipy\n",
    "\n",
    "from xgboost import XGBClassifier\n",
    "from sklearn.metrics import auc\n",
    "from sklearn.metrics import roc_curve\n",
    "\n",
    "import json\n",
    "\n",
    "from dataclasses import dataclass\n",
    "\n",
    "from sklearn.metrics import confusion_matrix\n",
    "\n",
    "import seaborn as sns\n",
    "\n",
    "from sklearn.metrics import roc_auc_score\n",
    "\n",
    "import time"
   ]
  },
  {
   "attachments": {},
   "cell_type": "markdown",
   "metadata": {},
   "source": [
    "Report the time duration to run notebook"
   ]
  },
  {
   "cell_type": "code",
   "execution_count": 2,
   "metadata": {},
   "outputs": [],
   "source": [
    "start_time = time.time()"
   ]
  },
  {
   "attachments": {},
   "cell_type": "markdown",
   "metadata": {},
   "source": [
    "## Set up paths and filenames"
   ]
  },
  {
   "cell_type": "code",
   "execution_count": 3,
   "metadata": {},
   "outputs": [],
   "source": [
    "@dataclass(frozen=True)\n",
    "class Paths:\n",
    "    '''Singleton object for storing paths to data.'''\n",
    "\n",
    "    data_save_path: str = './output/'\n",
    "    data_read_path: str = '../data/kfold_5fold'\n",
    "    notebook: str = '01_'\n",
    "\n",
    "paths = Paths()"
   ]
  },
  {
   "attachments": {},
   "cell_type": "markdown",
   "metadata": {},
   "source": [
    "## Import data\n",
    "\n",
    "Data has previously been split into 5 stratified k-fold splits."
   ]
  },
  {
   "cell_type": "code",
   "execution_count": 4,
   "metadata": {},
   "outputs": [],
   "source": [
    "train_data, test_data = [], []\n",
    "\n",
    "for i in range(5):\n",
    "    \n",
    "    train_data.append(pd.read_csv(paths.data_read_path + '/03_train_{0}.csv'.format(i)))\n",
    "    test_data.append(pd.read_csv(paths.data_read_path + '/03_test_{0}.csv'.format(i)))"
   ]
  },
  {
   "attachments": {},
   "cell_type": "markdown",
   "metadata": {},
   "source": [
    "Get list of features"
   ]
  },
  {
   "cell_type": "code",
   "execution_count": 5,
   "metadata": {},
   "outputs": [
    {
     "name": "stdout",
     "output_type": "stream",
     "text": [
      "There are 51 features\n"
     ]
    }
   ],
   "source": [
    "features = list(train_data[0])\n",
    "print(f\"There are {len(features)} features\")"
   ]
  },
  {
   "attachments": {},
   "cell_type": "markdown",
   "metadata": {},
   "source": [
    "## One hot code the categorical features\n",
    "\n",
    "Convert some categorical features to one hot encoded features.\n",
    "\n",
    "Define a function"
   ]
  },
  {
   "cell_type": "code",
   "execution_count": 6,
   "metadata": {},
   "outputs": [],
   "source": [
    "def convert_feature_to_one_hot(df, feature_name, prefix):\n",
    "    \"\"\"\n",
    "    df [dataframe]: training or test dataset\n",
    "    feature_name [str]: feature to convert to ont hot encoding\n",
    "    prefix [str]: string to use on new feature\n",
    "    \"\"\"\n",
    "\n",
    "    # One hot encode a feature\n",
    "    df_feature = pd.get_dummies(\n",
    "        df[feature_name], prefix = prefix)\n",
    "    df = pd.concat([df, df_feature], axis=1)\n",
    "    df.drop(feature_name, axis=1, inplace=True)\n",
    "\n",
    "    return(df)"
   ]
  },
  {
   "attachments": {},
   "cell_type": "markdown",
   "metadata": {},
   "source": [
    "Set up two lists for the one hot encoding. \n",
    "\n",
    "A list of the feature names that are categorical and to be converted using one hot encoding.\n",
    "A list of the prefixes to use for these features."
   ]
  },
  {
   "cell_type": "code",
   "execution_count": 7,
   "metadata": {},
   "outputs": [],
   "source": [
    "features_to_one_hot = [\"stroke_team\", \"weekday\"]\n",
    "list_prefix = [\"team\", \"weekday\"]"
   ]
  },
  {
   "attachments": {},
   "cell_type": "markdown",
   "metadata": {},
   "source": [
    "## Fit XGBoost model\n",
    "\n",
    "Train model with all features (as comparison)"
   ]
  },
  {
   "cell_type": "code",
   "execution_count": 8,
   "metadata": {},
   "outputs": [
    {
     "name": "stdout",
     "output_type": "stream",
     "text": [
      "All features, AUC: 0.816 (std across 5 kfolds: 0.000)\n"
     ]
    }
   ],
   "source": [
    "r_square_kfold = []\n",
    "roc_auc_ovr_kfold = []\n",
    "\n",
    "# Loop through k folds\n",
    "for k_fold in range(5):\n",
    "\n",
    "    # Get k fold split\n",
    "    train = train_data[k_fold]\n",
    "    test = test_data[k_fold]\n",
    "\n",
    "    # Get X and y\n",
    "    X_train = train.drop('discharge_disability', axis=1)\n",
    "    X_test = test.drop('discharge_disability', axis=1)\n",
    "    y_train = train['discharge_disability']\n",
    "    y_test = test['discharge_disability']\n",
    "\n",
    "    # One hot encode categorical features\n",
    "    for feature, prefix in zip(features_to_one_hot, list_prefix):\n",
    "        X_train = convert_feature_to_one_hot(X_train, feature, prefix)\n",
    "        X_test = convert_feature_to_one_hot(X_test, feature, prefix)\n",
    "\n",
    "    # Define model\n",
    "    model = XGBClassifier(\n",
    "        verbosity=0, seed=42, learning_rate=0.5, tree_method='gpu_hist')\n",
    "\n",
    "    # Fit model\n",
    "    model.fit(X_train, y_train)\n",
    "\n",
    "    # Get target categories from model\n",
    "    classes = model.classes_\n",
    "\n",
    "    # Get predicted probabilities\n",
    "    y_probs = model.predict_proba(X_test)\n",
    "\n",
    "    # Calculate ROC AUC for multiclass models, using One vs Rest\n",
    "    roc_auc_ovr = roc_auc_score(y_test, y_probs, labels = classes, \n",
    "                                multi_class = 'ovr', average = 'macro')\n",
    "    roc_auc_ovr_kfold.append(roc_auc_ovr)\n",
    "\n",
    "# Get average result from all k-fold splits\n",
    "roc_auc_ovr_mean = np.mean(roc_auc_ovr_kfold)\n",
    "\n",
    "print (f'All features, AUC: {roc_auc_ovr_mean:0.3f} '\n",
    "       f'(std across 5 kfolds: {np.std(roc_auc_ovr_mean):0.3f})')"
   ]
  },
  {
   "attachments": {},
   "cell_type": "markdown",
   "metadata": {},
   "source": [
    "Check that the five ROC AUC are not identical (to give the stddev 0)"
   ]
  },
  {
   "cell_type": "code",
   "execution_count": 9,
   "metadata": {},
   "outputs": [
    {
     "data": {
      "text/plain": [
       "[0.8157738557532797,\n",
       " 0.8166220153277053,\n",
       " 0.8184124266961358,\n",
       " 0.8170253492373047,\n",
       " 0.8137555945131912]"
      ]
     },
     "execution_count": 9,
     "metadata": {},
     "output_type": "execute_result"
    }
   ],
   "source": [
    "roc_auc_ovr_kfold"
   ]
  },
  {
   "attachments": {},
   "cell_type": "markdown",
   "metadata": {},
   "source": [
    "## Fit XGBoost model\n",
    "\n",
    "Loop through each feature in turn and train an XGBoost model with that feature added to the dataset (for each k-fold split). Choose the single best feature to add to the model in terms of performance from the ROC AUC using one vs rest (mean of the k-fold splits).\n",
    "\n",
    "Repeat until 25 features have been selected."
   ]
  },
  {
   "cell_type": "code",
   "execution_count": 10,
   "metadata": {},
   "outputs": [
    {
     "name": "stdout",
     "output_type": "stream",
     "text": [
      "Feature  1: prior_disability, AUC: 0.687\n",
      "Feature  2: stroke_severity, AUC: 0.770\n",
      "Feature  3: stroke_team, AUC: 0.800\n",
      "Feature  4: age, AUC: 0.805\n",
      "Feature  5: year, AUC: 0.811\n",
      "Feature  6: nihss_arrival_loc, AUC: 0.813\n",
      "Feature  7: scan_to_thrombolysis_time, AUC: 0.815\n",
      "Feature  8: nihss_arrival_best_language, AUC: 0.816\n",
      "Feature  9: thrombolysis_no_but_improving, AUC: 0.817\n",
      "Feature 10: nihss_arrival_loc_questions, AUC: 0.817\n",
      "Feature 11: nihss_arrival_sensory, AUC: 0.817\n",
      "Feature 12: nihss_arrival_motor_arm_left, AUC: 0.818\n",
      "Feature 13: id, AUC: 0.818\n",
      "Feature 14: thrombolysis_no_but_other_medical, AUC: 0.818\n",
      "Feature 15: infarction, AUC: 0.818\n",
      "Feature 16: arrive_by_ambulance, AUC: 0.818\n",
      "Feature 17: onset_during_sleep, AUC: 0.818\n",
      "Feature 18: nihss_arrival_dysarthria, AUC: 0.818\n",
      "Feature 19: male, AUC: 0.818\n",
      "Feature 20: nihss_arrival_motor_arm_right, AUC: 0.818\n",
      "Feature 21: afib_anticoagulant, AUC: 0.818\n",
      "Feature 22: congestive_heart_failure, AUC: 0.818\n",
      "Feature 23: nihss_arrival_facial_palsy, AUC: 0.818\n",
      "Feature 24: nihss_complete, AUC: 0.818\n",
      "Feature 25: nihss_arrival_best_gaze, AUC: 0.819\n"
     ]
    }
   ],
   "source": [
    "# Create list to store accuracies and chosen features\n",
    "roc_auc_by_feature_number = []\n",
    "roc_auc_by_feature_number_kfold = []\n",
    "chosen_features = []\n",
    "\n",
    "# Initialise chosen features list and run tracker\n",
    "available_features = list(train_data[0].drop('discharge_disability', axis=1))\n",
    "number_of_features = len(available_features)\n",
    "\n",
    "# Loop through number of features\n",
    "for i in range (25):\n",
    "    \n",
    "    # Reset best feature and accuracy\n",
    "    best_result = 0\n",
    "    best_feature = ''\n",
    "    \n",
    "    # Loop through available features\n",
    "    for feature in available_features:\n",
    "\n",
    "        # Create copy of already chosen features to avoid original being changed\n",
    "        features_to_use = chosen_features.copy()\n",
    "        # Create a list of features from features already chosen + 1 new feature\n",
    "        features_to_use.append(feature)\n",
    "        \n",
    "        # Set up a list to hold AUC results for this feature for each kfold\n",
    "        feature_roc_auc_ovr_kfold = []\n",
    "        \n",
    "        # Loop through k folds\n",
    "        for k_fold in range(5):\n",
    "\n",
    "            # Get k fold split\n",
    "            train = train_data[k_fold]\n",
    "            test = test_data[k_fold]\n",
    "\n",
    "            # Get X and y\n",
    "            X_train = train.drop('discharge_disability', axis=1)\n",
    "            X_test = test.drop('discharge_disability', axis=1)\n",
    "            y_train = train['discharge_disability']\n",
    "            y_test = test['discharge_disability']\n",
    "            \n",
    "            # Restrict features\n",
    "            X_train = X_train[features_to_use]\n",
    "            X_test = X_test[features_to_use]\n",
    "\n",
    "            # One hot encode categorical features\n",
    "            for cat_feature, prefix in zip(features_to_one_hot, list_prefix):\n",
    "                if cat_feature in features_to_use:\n",
    "                    X_train = convert_feature_to_one_hot(X_train, cat_feature, prefix)\n",
    "                    X_test = convert_feature_to_one_hot(X_test, cat_feature, prefix)\n",
    "\n",
    "            # Define model\n",
    "            model = XGBClassifier(\n",
    "                verbosity=0, seed=42, learning_rate=0.5, tree_method='gpu_hist')\n",
    "\n",
    "            # Fit model\n",
    "            model.fit(X_train, y_train)\n",
    "\n",
    "            # Get predicted probabilities\n",
    "            y_probs = model.predict_proba(X_test)\n",
    "            \n",
    "            # Calculate ROC AUC for multiclass models, using One vs Rest\n",
    "            feature_roc_auc_ovr = roc_auc_score(y_test, y_probs, labels = classes, \n",
    "                                multi_class = 'ovr', average = 'macro')\n",
    "            feature_roc_auc_ovr_kfold.append(feature_roc_auc_ovr)\n",
    "        \n",
    "        # Get average result from all k-fold splits\n",
    "        feature_auc_mean = np.mean(feature_roc_auc_ovr_kfold)\n",
    "    \n",
    "        # Update chosen feature and result if this feature is a new best\n",
    "        if feature_auc_mean > best_result:\n",
    "            best_result = feature_auc_mean\n",
    "            best_result_kfold = feature_roc_auc_ovr_kfold\n",
    "            best_feature = feature\n",
    "            \n",
    "    # k-fold splits are complete    \n",
    "    # Add mean accuracy and AUC to record of accuracy by feature number\n",
    "    roc_auc_by_feature_number.append(best_result)\n",
    "    roc_auc_by_feature_number_kfold.append(best_result_kfold)\n",
    "    chosen_features.append(best_feature)\n",
    "    available_features.remove(best_feature)\n",
    "            \n",
    "    print (f'Feature {i+1:2.0f}: {best_feature}, AUC: {best_result:0.3f}')"
   ]
  },
  {
   "attachments": {},
   "cell_type": "markdown",
   "metadata": {},
   "source": [
    "Create a dataframe that contains the chosen features, and their mean ROC AUC across the k-fold splits, and the standard deviation."
   ]
  },
  {
   "cell_type": "code",
   "execution_count": 11,
   "metadata": {},
   "outputs": [
    {
     "data": {
      "text/html": [
       "<div>\n",
       "<style scoped>\n",
       "    .dataframe tbody tr th:only-of-type {\n",
       "        vertical-align: middle;\n",
       "    }\n",
       "\n",
       "    .dataframe tbody tr th {\n",
       "        vertical-align: top;\n",
       "    }\n",
       "\n",
       "    .dataframe thead th {\n",
       "        text-align: right;\n",
       "    }\n",
       "</style>\n",
       "<table border=\"1\" class=\"dataframe\">\n",
       "  <thead>\n",
       "    <tr style=\"text-align: right;\">\n",
       "      <th></th>\n",
       "      <th>number_features</th>\n",
       "      <th>feature</th>\n",
       "      <th>AUC</th>\n",
       "    </tr>\n",
       "  </thead>\n",
       "  <tbody>\n",
       "    <tr>\n",
       "      <th>0</th>\n",
       "      <td>1</td>\n",
       "      <td>prior_disability</td>\n",
       "      <td>0.687344</td>\n",
       "    </tr>\n",
       "    <tr>\n",
       "      <th>1</th>\n",
       "      <td>2</td>\n",
       "      <td>stroke_severity</td>\n",
       "      <td>0.770262</td>\n",
       "    </tr>\n",
       "    <tr>\n",
       "      <th>2</th>\n",
       "      <td>3</td>\n",
       "      <td>stroke_team</td>\n",
       "      <td>0.799953</td>\n",
       "    </tr>\n",
       "    <tr>\n",
       "      <th>3</th>\n",
       "      <td>4</td>\n",
       "      <td>age</td>\n",
       "      <td>0.805349</td>\n",
       "    </tr>\n",
       "    <tr>\n",
       "      <th>4</th>\n",
       "      <td>5</td>\n",
       "      <td>year</td>\n",
       "      <td>0.810668</td>\n",
       "    </tr>\n",
       "    <tr>\n",
       "      <th>5</th>\n",
       "      <td>6</td>\n",
       "      <td>nihss_arrival_loc</td>\n",
       "      <td>0.813225</td>\n",
       "    </tr>\n",
       "    <tr>\n",
       "      <th>6</th>\n",
       "      <td>7</td>\n",
       "      <td>scan_to_thrombolysis_time</td>\n",
       "      <td>0.814874</td>\n",
       "    </tr>\n",
       "    <tr>\n",
       "      <th>7</th>\n",
       "      <td>8</td>\n",
       "      <td>nihss_arrival_best_language</td>\n",
       "      <td>0.815812</td>\n",
       "    </tr>\n",
       "    <tr>\n",
       "      <th>8</th>\n",
       "      <td>9</td>\n",
       "      <td>thrombolysis_no_but_improving</td>\n",
       "      <td>0.816838</td>\n",
       "    </tr>\n",
       "    <tr>\n",
       "      <th>9</th>\n",
       "      <td>10</td>\n",
       "      <td>nihss_arrival_loc_questions</td>\n",
       "      <td>0.817141</td>\n",
       "    </tr>\n",
       "    <tr>\n",
       "      <th>10</th>\n",
       "      <td>11</td>\n",
       "      <td>nihss_arrival_sensory</td>\n",
       "      <td>0.817334</td>\n",
       "    </tr>\n",
       "    <tr>\n",
       "      <th>11</th>\n",
       "      <td>12</td>\n",
       "      <td>nihss_arrival_motor_arm_left</td>\n",
       "      <td>0.817742</td>\n",
       "    </tr>\n",
       "    <tr>\n",
       "      <th>12</th>\n",
       "      <td>13</td>\n",
       "      <td>id</td>\n",
       "      <td>0.817763</td>\n",
       "    </tr>\n",
       "    <tr>\n",
       "      <th>13</th>\n",
       "      <td>14</td>\n",
       "      <td>thrombolysis_no_but_other_medical</td>\n",
       "      <td>0.818038</td>\n",
       "    </tr>\n",
       "    <tr>\n",
       "      <th>14</th>\n",
       "      <td>15</td>\n",
       "      <td>infarction</td>\n",
       "      <td>0.818038</td>\n",
       "    </tr>\n",
       "    <tr>\n",
       "      <th>15</th>\n",
       "      <td>16</td>\n",
       "      <td>arrive_by_ambulance</td>\n",
       "      <td>0.818038</td>\n",
       "    </tr>\n",
       "    <tr>\n",
       "      <th>16</th>\n",
       "      <td>17</td>\n",
       "      <td>onset_during_sleep</td>\n",
       "      <td>0.817925</td>\n",
       "    </tr>\n",
       "    <tr>\n",
       "      <th>17</th>\n",
       "      <td>18</td>\n",
       "      <td>nihss_arrival_dysarthria</td>\n",
       "      <td>0.818025</td>\n",
       "    </tr>\n",
       "    <tr>\n",
       "      <th>18</th>\n",
       "      <td>19</td>\n",
       "      <td>male</td>\n",
       "      <td>0.817978</td>\n",
       "    </tr>\n",
       "    <tr>\n",
       "      <th>19</th>\n",
       "      <td>20</td>\n",
       "      <td>nihss_arrival_motor_arm_right</td>\n",
       "      <td>0.818107</td>\n",
       "    </tr>\n",
       "    <tr>\n",
       "      <th>20</th>\n",
       "      <td>21</td>\n",
       "      <td>afib_anticoagulant</td>\n",
       "      <td>0.818302</td>\n",
       "    </tr>\n",
       "    <tr>\n",
       "      <th>21</th>\n",
       "      <td>22</td>\n",
       "      <td>congestive_heart_failure</td>\n",
       "      <td>0.818308</td>\n",
       "    </tr>\n",
       "    <tr>\n",
       "      <th>22</th>\n",
       "      <td>23</td>\n",
       "      <td>nihss_arrival_facial_palsy</td>\n",
       "      <td>0.818450</td>\n",
       "    </tr>\n",
       "    <tr>\n",
       "      <th>23</th>\n",
       "      <td>24</td>\n",
       "      <td>nihss_complete</td>\n",
       "      <td>0.818350</td>\n",
       "    </tr>\n",
       "    <tr>\n",
       "      <th>24</th>\n",
       "      <td>25</td>\n",
       "      <td>nihss_arrival_best_gaze</td>\n",
       "      <td>0.818542</td>\n",
       "    </tr>\n",
       "  </tbody>\n",
       "</table>\n",
       "</div>"
      ],
      "text/plain": [
       "    number_features                            feature       AUC\n",
       "0                 1                   prior_disability  0.687344\n",
       "1                 2                    stroke_severity  0.770262\n",
       "2                 3                        stroke_team  0.799953\n",
       "3                 4                                age  0.805349\n",
       "4                 5                               year  0.810668\n",
       "5                 6                  nihss_arrival_loc  0.813225\n",
       "6                 7          scan_to_thrombolysis_time  0.814874\n",
       "7                 8        nihss_arrival_best_language  0.815812\n",
       "8                 9      thrombolysis_no_but_improving  0.816838\n",
       "9                10        nihss_arrival_loc_questions  0.817141\n",
       "10               11              nihss_arrival_sensory  0.817334\n",
       "11               12       nihss_arrival_motor_arm_left  0.817742\n",
       "12               13                                 id  0.817763\n",
       "13               14  thrombolysis_no_but_other_medical  0.818038\n",
       "14               15                         infarction  0.818038\n",
       "15               16                arrive_by_ambulance  0.818038\n",
       "16               17                 onset_during_sleep  0.817925\n",
       "17               18           nihss_arrival_dysarthria  0.818025\n",
       "18               19                               male  0.817978\n",
       "19               20      nihss_arrival_motor_arm_right  0.818107\n",
       "20               21                 afib_anticoagulant  0.818302\n",
       "21               22           congestive_heart_failure  0.818308\n",
       "22               23         nihss_arrival_facial_palsy  0.818450\n",
       "23               24                     nihss_complete  0.818350\n",
       "24               25            nihss_arrival_best_gaze  0.818542"
      ]
     },
     "execution_count": 11,
     "metadata": {},
     "output_type": "execute_result"
    }
   ],
   "source": [
    "results = pd.DataFrame()\n",
    "results['number_features'] = range(1, len(chosen_features)+1)\n",
    "results['feature'] = chosen_features\n",
    "results['AUC'] = roc_auc_by_feature_number\n",
    "results"
   ]
  },
  {
   "cell_type": "code",
   "execution_count": 12,
   "metadata": {},
   "outputs": [],
   "source": [
    "results.to_csv(f'{paths.data_save_path}/{paths.notebook}feature_selection.csv', index=False)"
   ]
  },
  {
   "attachments": {},
   "cell_type": "markdown",
   "metadata": {},
   "source": [
    "## Plot the results\n",
    "Plot a line graph showing the change in mean ROC AUC (across k-fold splits) for the number of features chosen in the model."
   ]
  },
  {
   "cell_type": "code",
   "execution_count": 13,
   "metadata": {},
   "outputs": [],
   "source": [
    "results = pd.read_csv(f'{paths.data_save_path}/{paths.notebook}feature_selection.csv')"
   ]
  },
  {
   "cell_type": "code",
   "execution_count": 14,
   "metadata": {},
   "outputs": [
    {
     "data": {
      "image/png": "[encoded data removed]",
      "text/plain": [
       "<Figure size 1000x600 with 2 Axes>"
      ]
     },
     "metadata": {},
     "output_type": "display_data"
    }
   ],
   "source": [
    "features_to_show = 10\n",
    "\n",
    "fig = plt.figure(figsize=(10,6))\n",
    "\n",
    "ax1 = fig.add_subplot(121)\n",
    "ax1.plot(results['number_features'], results['AUC'])\n",
    "ax1.set_xlabel('Number of features')\n",
    "ax1.set_ylabel('Mean ROC AUC')\n",
    "ax1.set_ylim(0.69, 0.83)\n",
    "ax1.grid()\n",
    "\n",
    "ax2 = fig.add_subplot(122)\n",
    "ax2.plot(results['feature'][:features_to_show],\n",
    "         results['AUC'][:features_to_show])\n",
    "xlabels = list(results['feature'])\n",
    "xlabels = xlabels[:features_to_show]\n",
    "ax2.set_xticklabels(xlabels, rotation=45, ha='right')\n",
    "ax2.set_ylabel('Mean ROC AUC')\n",
    "ax1.set_xlabel('New feature selected')\n",
    "ax2.set_ylim(0.69, 0.83)\n",
    "ax2.grid()\n",
    "\n",
    "plt.tight_layout(pad=1.5)\n",
    "\n",
    "plt.savefig(f'{paths.data_save_path}/{paths.notebook}feature_selection.jpg', dpi=300)\n",
    "plt.show()"
   ]
  },
  {
   "attachments": {},
   "cell_type": "markdown",
   "metadata": {},
   "source": [
    "Save dictionary as a json (to be read in and used by the other notebooks)."
   ]
  },
  {
   "cell_type": "code",
   "execution_count": 15,
   "metadata": {},
   "outputs": [],
   "source": [
    "feature_name_dict = {\n",
    "    \"prior_disability\": \"Prior disability level\",\n",
    "    \"stroke_severity\": \"Stroke severity\",\n",
    "    \"stroke_team\": \"Stroke team\",\n",
    "    \"age\": \"Age\",\n",
    "    \"year\": \"Year\",\n",
    "    \"nihss_arrival_loc\": \"NIHSS arrival LOC\",\n",
    "    \"scan_to_thrombolysis_time\": \"Scan-to-thrombolysis time\",\n",
    "    \"thrombolysis_no_but_improving\": \"Thrombolysis-No but improving\",\n",
    "    \"nihss_arrival_motor_arm_left\": \"NIHSS arrival motor arm left\",\n",
    "    \"nihss_arrival_best_gaze\": \"NIHSS arrival best gaze\",\n",
    "    \"nihss_arrival_motor_arm_right\": \"NIHSS arrival motor arm right\",\n",
    "    \"male\": \"Male\",\n",
    "    \"month\": \"Month\",\n",
    "    \"nihss_arrival_dysarthria\": \"NIHSS arrival dysarthria\",\n",
    "    \"infarction\": \"Infarction\",\n",
    "    \"arrive_by_ambulance\": \"Arrive by ambulance\",\n",
    "    \"thrombolysis_no_but_too_mild_severe\": \"Thrombolysis-No but too mild severe\",\n",
    "    \"diabetes\": \"Diabetes\",\n",
    "    \"thrombolysis_no_but_haemorrhagic\": \"Thrombolysis-No but haemorrhagic\",\n",
    "    \"nihss_arrival_motor_leg_right\": \"NIHSS arrival motor leg right\",\n",
    "    \"nihss_arrival_sensory\": \"NIHSS arrival sensory\",\n",
    "    \"afib_antiplatelet\": \"AFIB antiplatelet\",\n",
    "    \"afib_anticoagulant\": \"AFIB_anticoagulant\",\n",
    "    \"thrombolysis_no_but_other_medical\": \"Thrombolysis-No but other medical\",\n",
    "    \"nihss_arrival_best_language\": \"NIHSS arrival best language\",\n",
    "    \"congestive_heart_failure\": \"Congestive heart failure\",\n",
    "    \"nihss_arrival_limb_ataxia\": \"NIHSS arrival limb ataxia\",\n",
    "    \"nihss_arrival_loc_questions\": \"NIHSS arrival LOC questions\"\n",
    "}"
   ]
  },
  {
   "cell_type": "code",
   "execution_count": 16,
   "metadata": {},
   "outputs": [],
   "source": [
    "with open(f'{paths.data_save_path}/{paths.notebook}feature_name_dict.json', \"w+\") as f:\n",
    "    json.dump(feature_name_dict, f)"
   ]
  },
  {
   "cell_type": "code",
   "execution_count": 17,
   "metadata": {},
   "outputs": [
    {
     "name": "stdout",
     "output_type": "stream",
     "text": [
      "Time taken: 22144.506618499756\n"
     ]
    }
   ],
   "source": [
    "end_time = time.time()\n",
    "\n",
    "print(f'Time taken: {end_time - start_time}')"
   ]
  }
 ],
 "metadata": {
  "kernelspec": {
   "display_name": "Python 3.10.11 ('sam10')",
   "language": "python",
   "name": "python3"
  },
  "language_info": {
   "codemirror_mode": {
    "name": "ipython",
    "version": 3
   },
   "file_extension": ".py",
   "mimetype": "text/x-python",
   "name": "python",
   "nbconvert_exporter": "python",
   "pygments_lexer": "ipython3",
   "version": "3.10.10"
  },
  "orig_nbformat": 4,
  "vscode": {
   "interpreter": {
    "hash": "f85b883bff9a8a9f39576b94acbdf6672b3dc17c35647e7395f81e785740a4b3"
   }
  }
 },
 "nbformat": 4,
 "nbformat_minor": 2
}
