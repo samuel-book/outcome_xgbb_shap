{
 "cells": [
  {
   "cell_type": "code",
   "execution_count": null,
   "metadata": {},
   "outputs": [],
   "source": []
  },
  {
   "cell_type": "code",
   "execution_count": null,
   "metadata": {},
   "outputs": [],
   "source": [
    "features_to_use = [\n",
    "    'stroke_team_id',\n",
    "    'stroke_severity',\n",
    "    'prior_disability',\n",
    "    'age',\n",
    "    'infarction',\n",
    "    'onset_to_arrival_time',\n",
    "    'precise_onset_known',\n",
    "    'onset_during_sleep',\n",
    "    'arrival_to_scan_time',\n",
    "    'afib_anticoagulant',    \n",
    "    'thrombolysis'\n",
    "]"
   ]
  }
 ],
 "metadata": {
  "kernelspec": {
   "display_name": "Python 3",
   "language": "python",
   "name": "python3"
  },
  "language_info": {
   "name": "python",
   "version": "3.10.6"
  },
  "orig_nbformat": 4
 },
 "nbformat": 4,
 "nbformat_minor": 2
}
