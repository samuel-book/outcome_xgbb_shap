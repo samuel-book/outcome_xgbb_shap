{
 "cells": [
  {
   "attachments": {},
   "cell_type": "markdown",
   "metadata": {},
   "source": [
    "# Reformat data\n",
    "\n",
    "This notebook reformats the cleaned up SSNAP data for use with machine learning."
   ]
  },
  {
   "attachments": {},
   "cell_type": "markdown",
   "metadata": {},
   "source": [
    "## Import packages"
   ]
  },
  {
   "cell_type": "code",
   "execution_count": 1,
   "metadata": {},
   "outputs": [],
   "source": [
    "# Import packages\n",
    "import numpy as np\n",
    "import os\n",
    "import pandas as pd\n",
    "\n",
    "from dataclasses import dataclass\n",
    "\n",
    "# Set the maximum number of columns to 100\n",
    "pd.set_option('display.max_columns', 100)\n",
    "pd.set_option('display.max_rows', 100)"
   ]
  },
  {
   "attachments": {},
   "cell_type": "markdown",
   "metadata": {},
   "source": [
    "## Set up paths and filenames"
   ]
  },
  {
   "cell_type": "code",
   "execution_count": 2,
   "metadata": {},
   "outputs": [],
   "source": [
    "@dataclass(frozen=True)\n",
    "class Paths:\n",
    "    '''Singleton object for storing paths to data and database.'''\n",
    "\n",
    "    data_read_path: str = './'\n",
    "    data_read_filename: str = '01_cleaned_data.csv'\n",
    "    data_save_path: str = './'\n",
    "    data_save_filename: str = 'reformatted_data_ml.csv'\n",
    "    notebook: str = '02_'\n",
    "\n",
    "paths = Paths()"
   ]
  },
  {
   "attachments": {},
   "cell_type": "markdown",
   "metadata": {},
   "source": [
    "## Set thresholds"
   ]
  },
  {
   "cell_type": "code",
   "execution_count": 3,
   "metadata": {},
   "outputs": [],
   "source": [
    "set_duration_not_get_thrombolysis = 9999\n",
    "min_hosptial_thrombolysis_threshold = 10\n",
    "min_hospital_admission_threshold = 250\n"
   ]
  },
  {
   "attachments": {},
   "cell_type": "markdown",
   "metadata": {},
   "source": [
    "## Load data"
   ]
  },
  {
   "cell_type": "code",
   "execution_count": 4,
   "metadata": {},
   "outputs": [
    {
     "data": {
      "text/plain": [
       "(360379, 65)"
      ]
     },
     "execution_count": 4,
     "metadata": {},
     "output_type": "execute_result"
    }
   ],
   "source": [
    "filename = os.path.join(paths.data_read_path, paths.data_read_filename)\n",
    "all_data = pd.read_csv(filename)\n",
    "all_data.shape"
   ]
  },
  {
   "attachments": {},
   "cell_type": "markdown",
   "metadata": {},
   "source": [
    "## Limit data"
   ]
  },
  {
   "cell_type": "code",
   "execution_count": 5,
   "metadata": {},
   "outputs": [
    {
     "data": {
      "text/plain": [
       "(159980, 65)"
      ]
     },
     "execution_count": 5,
     "metadata": {},
     "output_type": "execute_result"
    }
   ],
   "source": [
    "# Limit to years 2017 onwars\n",
    "mask = all_data['year'] >= 2017\n",
    "data = all_data[mask]\n",
    "\n",
    "# Limit to infarction stroke\n",
    "mask = (data['infarction'] == 1)\n",
    "data = data[mask]\n",
    "\n",
    "# Limit to arrivals by ambulace\n",
    "mask = (data['arrive_by_ambulance'] == 1)\n",
    "data = data[mask]\n",
    "\n",
    "# Remove patients who have received thrombectomy\n",
    "mask = (data['thrombectomy'] == 0)\n",
    "data = data[mask]\n",
    "\n",
    "# Remove patients with no recorded prior disability\n",
    "mask = data['prior_disability'] >= 0\n",
    "data = data[mask]\n",
    "\n",
    "# Remove records with no recorded discharge_disability\n",
    "mask = data['discharge_disability'] >= 0\n",
    "data = data[mask]\n",
    "\n",
    "# Remove records with negative onset_to_arrival_time\n",
    "mask = data['onset_to_arrival_time'] <= 0\n",
    "mask =  mask == False\n",
    "data = data[mask]\n",
    "\n",
    "# Remove 'unusual' travel times (outside range 0-1440 minutes for each step)\n",
    "cols = [\n",
    "    'onset_to_arrival_time',\n",
    "    'call_to_ambulance_arrival_time',\n",
    "    'ambulance_on_scene_time',\n",
    "    'ambulance_travel_to_hospital_time',\n",
    "    'ambulance_wait_time_at_hospital'\n",
    "]\n",
    "\n",
    "for col in cols:\n",
    "    # Remove rows with negative values\n",
    "    mask = data[col] < 0\n",
    "    mask =  mask == False\n",
    "    data = data[mask]\n",
    "    # Remove rows greater than 1440 minutes\n",
    "    mask = data[col] > 1440\n",
    "    mask =  mask == False\n",
    "    data = data[mask]\n",
    "data.shape"
   ]
  },
  {
   "attachments": {},
   "cell_type": "markdown",
   "metadata": {},
   "source": [
    "## Include hospitals with more than 250 admissions, and give atleast 10 thrombolysis"
   ]
  },
  {
   "cell_type": "code",
   "execution_count": 6,
   "metadata": {},
   "outputs": [],
   "source": [
    "def filter_stroke_team(data, min_threshold, result):\n",
    "    \"\"\"\n",
    "    Returns the dataframe with only the stroke teams that pass a minimum threshold.\n",
    "    Currently use to have at least 250 admissions, and give thrombolysis at least 10 times\n",
    "    data [dataframe]: contains all the hospital data\n",
    "    min_threshold [float]: threshold above which stroke team needs to be to stay in data\n",
    "    result [series]: contains value per stroke team, to be compared against the minimum threshold\n",
    "    \"\"\"\n",
    "\n",
    "    mask = result >= min_threshold\n",
    "    stroke_team_keep = list(result[mask].index)\n",
    "    data = data[data['stroke_team'].isin(stroke_team_keep)]\n",
    "\n",
    "    return(data)"
   ]
  },
  {
   "cell_type": "code",
   "execution_count": 7,
   "metadata": {},
   "outputs": [
    {
     "data": {
      "text/plain": [
       "(159980, 65)"
      ]
     },
     "execution_count": 7,
     "metadata": {},
     "output_type": "execute_result"
    }
   ],
   "source": [
    "result = data.groupby(['stroke_team'])['thrombolysis'].sum()\n",
    "data = filter_stroke_team(data, min_hosptial_thrombolysis_threshold, result)\n",
    "data.shape"
   ]
  },
  {
   "cell_type": "code",
   "execution_count": 8,
   "metadata": {},
   "outputs": [
    {
     "data": {
      "text/plain": [
       "(159832, 65)"
      ]
     },
     "execution_count": 8,
     "metadata": {},
     "output_type": "execute_result"
    }
   ],
   "source": [
    "result = data.groupby(['stroke_team'])['stroke_team'].count()\n",
    "data = filter_stroke_team(data, min_hospital_admission_threshold, result)\n",
    "data.shape"
   ]
  },
  {
   "attachments": {},
   "cell_type": "markdown",
   "metadata": {},
   "source": [
    "Give scan to thrombolysis time a value of 9999 for those patients that do not recieve thrombolysis. Doing so we will be able to remove thromboylsis as a feature as the information will be captured in the duration feature (can not keep both as then introduce feature dependency)"
   ]
  },
  {
   "cell_type": "code",
   "execution_count": 9,
   "metadata": {},
   "outputs": [],
   "source": [
    "# check the recorded durations for those not receive thrombolysis\n",
    "mask = data['thrombolysis'] == 0\n",
    "data['scan_to_thrombolysis_time'][mask] = set_duration_not_get_thrombolysis"
   ]
  },
  {
   "attachments": {},
   "cell_type": "markdown",
   "metadata": {},
   "source": [
    "There's an assumption that patients with NK recorded for feature S1OnsetTimeType have their stroke onset at midnight, and so their OnsettoArrivalMinutes taken as the duration from midnight. \n",
    "\n",
    "Currently these patients have a 0 for 'onset_known' (a value of 1 is for precise and best estimate).\n",
    "\n",
    "Keep patients with 'onset_known' = 1"
   ]
  },
  {
   "cell_type": "code",
   "execution_count": 10,
   "metadata": {},
   "outputs": [],
   "source": [
    "mask = data['onset_known'] == 1\n",
    "data = data[mask]"
   ]
  },
  {
   "attachments": {},
   "cell_type": "markdown",
   "metadata": {},
   "source": [
    "## Removing features\n",
    "Set up a list of features to remove (as there are others) and remove at same time.\n",
    "\n",
    "Remove 'onset\\_known', as all patients have same value (only kept those with a value of 1 ).\n"
   ]
  },
  {
   "cell_type": "code",
   "execution_count": 11,
   "metadata": {},
   "outputs": [],
   "source": [
    "remove_features = ['onset_known']"
   ]
  },
  {
   "attachments": {},
   "cell_type": "markdown",
   "metadata": {},
   "source": [
    "Remove anticolagulant types. "
   ]
  },
  {
   "cell_type": "code",
   "execution_count": 12,
   "metadata": {},
   "outputs": [],
   "source": [
    "remove_features.append('afib_vit_k_anticoagulant')\n",
    "remove_features.append('afib_doac_anticoagulant')\n",
    "remove_features.append('afib_heparin_anticoagulant')"
   ]
  },
  {
   "attachments": {},
   "cell_type": "markdown",
   "metadata": {},
   "source": [
    "A value in the scan\\_to\\_thrombolysis\\_time will indicate the patient had thrombolysis. Keeping both in will mean dependencies in the features (SHAP assumes all features are independent). \n",
    "\n",
    "Remove thrombolysis, and keep the pathway durations."
   ]
  },
  {
   "cell_type": "code",
   "execution_count": 13,
   "metadata": {},
   "outputs": [],
   "source": [
    "remove_features.append('thrombolysis')"
   ]
  },
  {
   "attachments": {},
   "cell_type": "markdown",
   "metadata": {},
   "source": [
    "Remove features that contain information later in the pathway, or contain information in the target feature (discharge_disability)"
   ]
  },
  {
   "cell_type": "code",
   "execution_count": 14,
   "metadata": {},
   "outputs": [],
   "source": [
    "remove_features.append('discharge_destination')\n",
    "remove_features.append('death')\n",
    "remove_features.append('disability_6_month')"
   ]
  },
  {
   "attachments": {},
   "cell_type": "markdown",
   "metadata": {},
   "source": [
    "Remove features about ambulance times (not fully filled in)"
   ]
  },
  {
   "cell_type": "code",
   "execution_count": 15,
   "metadata": {},
   "outputs": [],
   "source": [
    "remove_features.append('call_to_ambulance_arrival_time')\n",
    "remove_features.append('ambulance_on_scene_time')\n",
    "remove_features.append('ambulance_travel_to_hospital_time')\n",
    "remove_features.append('ambulance_wait_time_at_hospital')\n"
   ]
  },
  {
   "attachments": {},
   "cell_type": "markdown",
   "metadata": {},
   "source": [
    "Remove features about thrombectomy (patients who receive thromboectomy are already excluded)"
   ]
  },
  {
   "cell_type": "code",
   "execution_count": 16,
   "metadata": {},
   "outputs": [],
   "source": [
    "remove_features.append('thrombectomy')\n",
    "remove_features.append('arrival_to_thrombectomy_time')"
   ]
  },
  {
   "attachments": {},
   "cell_type": "markdown",
   "metadata": {},
   "source": [
    "Remove those features"
   ]
  },
  {
   "cell_type": "code",
   "execution_count": 17,
   "metadata": {},
   "outputs": [],
   "source": [
    "data = data.drop(remove_features, axis=1)"
   ]
  },
  {
   "attachments": {},
   "cell_type": "markdown",
   "metadata": {},
   "source": [
    "## Save cleaned data ready for machine learning (predict the discharge outcome)"
   ]
  },
  {
   "cell_type": "code",
   "execution_count": 18,
   "metadata": {},
   "outputs": [],
   "source": [
    "filename = os.path.join(paths.data_save_path, (paths.notebook + paths.data_save_filename))\n",
    "data.to_csv(filename, index=False)"
   ]
  }
 ],
 "metadata": {
  "kernelspec": {
   "display_name": "Python 3.10.11 ('sam10')",
   "language": "python",
   "name": "python3"
  },
  "language_info": {
   "codemirror_mode": {
    "name": "ipython",
    "version": 3
   },
   "file_extension": ".py",
   "mimetype": "text/x-python",
   "name": "python",
   "nbconvert_exporter": "python",
   "pygments_lexer": "ipython3",
   "version": "3.10.10"
  },
  "vscode": {
   "interpreter": {
    "hash": "f85b883bff9a8a9f39576b94acbdf6672b3dc17c35647e7395f81e785740a4b3"
   }
  }
 },
 "nbformat": 4,
 "nbformat_minor": 4
}
