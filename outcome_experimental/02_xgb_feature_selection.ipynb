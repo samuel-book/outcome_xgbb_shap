{
 "cells": [
  {
   "cell_type": "markdown",
   "metadata": {},
   "source": [
    "# XGBoost feature selection\n",
    "(using stratified 5-fold cross validation)\n",
    "\n",
    "### Plain English summary\n",
    "Machine learning algorithms (such as XGBoost) were devised to deal with enormous and complex datasets, with the approach that the more data that you can throw at them, the better, and let the algorithms work it out themselves.\n",
    "\n",
    "However this approach can make it tricky to be able to explain a coherent story about how the models are working, the relationships that they have found, and how they have made their predictions.\n",
    "\n",
    "Our machine learning work has taken on an additional focus - to make our work as explainable as possible. Both in terms of being able to explain how the models have arrived at their outcome, and in the ease at which we can disseminate our work to a wider audience. For us to have explainable models we want to have a balance between model complexity and model accuracy in order to be able to explain our models, whilst maintaining model performance.\n",
    "\n",
    "In this notebook we create a model to predict if a patient should receive thrombolysis using just a single input feature, chosen as the feature that gave the model it's best performance. The single feature that gave the best model performance was \"Arrival-to-scan time\". Fixing this feature in the model, we repeated the process to chose the next single feature to add to the model. The best single feature to include next was \"Stroke type\". We repeated this process, choosing the next feature to add to the model until 25 features were included (it was limited to 25 features for computational time purposes).\n",
    "\n",
    "We found that a model with eight features is able to provide 99% of the accuracy obtained when all 84 features are used, and that these eight features are also independent of each other (refer to section Check correlation between selected features to confirm this).\n",
    "\n",
    "When disseminating the initial 8 feature model outputs to clinicians we observed how, when they were discussing whether a particular patient was suitable to recieve thrombolysis, they would often discuss the patients age. Patient age was the 10th feature to be selected by this process. We decided to extend the feature selected list to include the 9th and 10th selected features: onset during sleep and patient age. This model provided >99% of the accuracy obtained when all 84 features are used. These ten features are also largely independent of each other (refer to section Check correlation between selected features to confirm this).\n",
    "\n",
    "This is not saying that these are the 10 most important features, as another highly correlated feature may also have been important, but it is now not needed to be included in the model.\n",
    "\n",
    "We will train future models using these ten features.\n",
    "\n",
    "NOTE: This experiment was performed using data where time from onset to arrival, and tiem from arrival to scan, were rounded to the nearest 5 minutes. When more precise data is used feature order varies slightly after feature 8.\n",
    "\n",
    "### Model and data\n",
    "XGBoost models were trained on stratified k-fold cross-validation data. The full dataset contains 84 features that describe the patient (in terms of their clinical characteristics, the stroke pathway, and the stroke team that they attended). Features to be included in the model were sequentially selected as the single best feature to add to the model in terms of performance from the area under the receiver operating characteristic (ROC AUC) curve. When included, the hospital feature is included as a one-hot encoded feature.\n",
    "\n",
    "### Aims\n",
    "Select up to 25 features (from the full set of 84 features) using forward feature selection. Features are selected sequentially (using the greedy approach), choosing the feature that leads to most improvement in ROC AUC score.\n",
    "Decide on the number of features to include in future models\n",
    "\n",
    "### Observations\n",
    "Ten features are able to provide a ROC AUC of 0.919 out of a maximum of 0.922. These features are also largely independent of each other.\n",
    "\n",
    "Our best model with 1, 2, 10 & 84 features had a ROC AUC of 0.715, 0.792, 0.919 & 0.922."
   ]
  },
  {
   "cell_type": "markdown",
   "metadata": {},
   "source": [
    "## Import libraries"
   ]
  },
  {
   "cell_type": "code",
   "execution_count": 1,
   "metadata": {},
   "outputs": [],
   "source": [
    "# Turn warnings off to keep notebook tidy\n",
    "import warnings\n",
    "warnings.filterwarnings(\"ignore\")\n",
    "\n",
    "import os\n",
    "import matplotlib.pyplot as plt\n",
    "import numpy as np\n",
    "import pandas as pd\n",
    "\n",
    "import scipy\n",
    "\n",
    "from xgboost import XGBClassifier\n",
    "from sklearn.metrics import auc\n",
    "from sklearn.metrics import roc_curve\n",
    "\n",
    "import json\n",
    "\n",
    "from dataclasses import dataclass\n",
    "\n",
    "from sklearn.metrics import confusion_matrix\n",
    "\n",
    "import seaborn as sns\n",
    "\n",
    "from sklearn.metrics import roc_auc_score\n",
    "\n",
    "import time"
   ]
  },
  {
   "cell_type": "markdown",
   "metadata": {},
   "source": [
    "Report the time duration to run notebook"
   ]
  },
  {
   "cell_type": "code",
   "execution_count": null,
   "metadata": {},
   "outputs": [],
   "source": [
    "start_time = time.time()"
   ]
  },
  {
   "cell_type": "markdown",
   "metadata": {},
   "source": [
    "## Set up paths and filenames"
   ]
  },
  {
   "cell_type": "code",
   "execution_count": 3,
   "metadata": {},
   "outputs": [],
   "source": [
    "@dataclass(frozen=True)\n",
    "class Paths:\n",
    "    '''Singleton object for storing paths to data and database.'''\n",
    "\n",
    "    data_save_path: str = './'\n",
    "    data_read_path: str = '../data/kfold_5fold'\n",
    "    notebook: str = '02_'\n",
    "\n",
    "paths = Paths()"
   ]
  },
  {
   "cell_type": "markdown",
   "metadata": {},
   "source": [
    "## Import data\n",
    "\n",
    "Data has previously been split into 5 stratified k-fold splits."
   ]
  },
  {
   "cell_type": "code",
   "execution_count": 67,
   "metadata": {},
   "outputs": [],
   "source": [
    "train_data, test_data = [], []\n",
    "\n",
    "for i in range(5):\n",
    "    \n",
    "    train_data.append(pd.read_csv(paths.data_read_path + '/03_train_{0}.csv'.format(i)))\n",
    "    test_data.append(pd.read_csv(paths.data_read_path + '/03_test_{0}.csv'.format(i)))"
   ]
  },
  {
   "cell_type": "markdown",
   "metadata": {},
   "source": [
    "Get list of features"
   ]
  },
  {
   "cell_type": "code",
   "execution_count": 68,
   "metadata": {},
   "outputs": [
    {
     "name": "stdout",
     "output_type": "stream",
     "text": [
      "There are 51 features\n"
     ]
    }
   ],
   "source": [
    "features = list(train_data[0])\n",
    "print(f\"There are {len(features)} features\")"
   ]
  },
  {
   "cell_type": "markdown",
   "metadata": {},
   "source": [
    "## One hot the categorical features\n",
    "\n",
    "Convert some categorical features to one hot encoded features.\n",
    "\n",
    "Define a function"
   ]
  },
  {
   "cell_type": "code",
   "execution_count": 69,
   "metadata": {},
   "outputs": [],
   "source": [
    "def convert_feature_to_one_hot(df, feature_name, prefix):\n",
    "    \"\"\"\n",
    "    df [dataframe]: training or test dataset\n",
    "    feature_name [str]: feature to convert to ont hot encoding\n",
    "    prefix [str]: string to use on new feature\n",
    "    \"\"\"\n",
    "\n",
    "    # One hot encode a feature\n",
    "    df_feature = pd.get_dummies(\n",
    "        df[feature_name], prefix = prefix)\n",
    "    df = pd.concat([df, df_feature], axis=1)\n",
    "    df.drop(feature_name, axis=1, inplace=True)\n",
    "\n",
    "    return(df)"
   ]
  },
  {
   "cell_type": "markdown",
   "metadata": {},
   "source": [
    "Set up two lists for the one hot encoding. \n",
    "\n",
    "A list of the feature names that are categorical and to be converted using one hot encoding.\n",
    "A list of the prefixes to use for these features."
   ]
  },
  {
   "cell_type": "code",
   "execution_count": 70,
   "metadata": {},
   "outputs": [],
   "source": [
    "features_to_one_hot = [\"stroke_team\", \"weekday\"]#, \"discharge_destination\"]\n",
    "list_prefix = [\"team\", \"weekday\"]#, \"disch_dest\"]"
   ]
  },
  {
   "cell_type": "markdown",
   "metadata": {},
   "source": [
    "For each feature in the list, for each train and test dataset, convert to one hot encoded."
   ]
  },
  {
   "cell_type": "code",
   "execution_count": null,
   "metadata": {},
   "outputs": [],
   "source": [
    "for feature, prefix in zip(features_to_one_hot, list_prefix):\n",
    "    for k_fold in range(5):\n",
    "        train_data[k_fold] = convert_feature_to_one_hot(train_data[k_fold], feature, prefix)\n",
    "        test_data[k_fold] = convert_feature_to_one_hot(test_data[k_fold], feature, prefix)"
   ]
  },
  {
   "cell_type": "markdown",
   "metadata": {},
   "source": [
    "## Fit XGBoost model\n",
    "\n",
    "Train model with all features (as comparison)"
   ]
  },
  {
   "cell_type": "code",
   "execution_count": 71,
   "metadata": {},
   "outputs": [
    {
     "name": "stdout",
     "output_type": "stream",
     "text": [
      "All features, AUC: 0.813 (std across 5 kfolds: 0.000)\n"
     ]
    }
   ],
   "source": [
    "r_square_kfold = []\n",
    "roc_auc_ovr_kfold = []\n",
    "accuracy_kfold = []\n",
    "error_within_one_kfold = []\n",
    "feature_importance_kfold = []\n",
    "y_probs_kfold = []\n",
    "y_pred_kfold = []\n",
    "model_kfold = []\n",
    "\n",
    "# Loop through k folds\n",
    "for k_fold in range(5):\n",
    "\n",
    "    # Get k fold split\n",
    "    train = train_data[k_fold]\n",
    "    test = test_data[k_fold]\n",
    "\n",
    "    # Get X and y\n",
    "    X_train = train.drop('discharge_disability', axis=1)\n",
    "    X_test = test.drop('discharge_disability', axis=1)\n",
    "    y_train = train['discharge_disability']\n",
    "    y_test = test['discharge_disability']\n",
    "\n",
    "    # One hot encode categorical features\n",
    "    for feature, prefix in zip(features_to_one_hot, list_prefix):\n",
    "        X_train = convert_feature_to_one_hot(X_train, feature, prefix)\n",
    "        X_test = convert_feature_to_one_hot(X_test, feature, prefix)\n",
    "\n",
    "    # Define model\n",
    "    model = XGBClassifier(verbosity = 0, seed=42, learning_rate=0.5, \n",
    "                          tree_method='gpu_hist')\n",
    "\n",
    "    # Fit model\n",
    "    model.fit(X_train, y_train)\n",
    "    model_kfold.append(model)\n",
    "    \n",
    "    # Get target categories from model\n",
    "    classes = model.classes_\n",
    "\n",
    "    # Get and store predicted probabilities\n",
    "    y_probs = model.predict_proba(X_test)\n",
    "    y_probs_kfold.append(y_probs)\n",
    "\n",
    "    # Get and store predicted class\n",
    "    y_pred = model.predict(X_test)\n",
    "    y_pred_kfold.append(y_pred)\n",
    "\n",
    "    # Calculate ROC AUC for multiclass models, using One vs Rest\n",
    "    roc_auc_ovr = roc_auc_score(y_test, y_probs, labels = classes, \n",
    "                                multi_class = 'ovr', average = 'macro')\n",
    "    roc_auc_ovr_kfold.append(roc_auc_ovr)\n",
    "\n",
    "    # Calculate error\n",
    "    y_error = y_test - y_pred\n",
    "    accuracy = np.mean(y_error==0)\n",
    "    accuracy_kfold.append(accuracy)\n",
    "\n",
    "    error_within_one = np.mean(np.abs(y_error)<=1)\n",
    "    error_within_one_kfold.append(error_within_one)\n",
    "\n",
    "    # Get and store feature importances\n",
    "    feature_importance = model.feature_importances_\n",
    "    feature_importance_kfold.append(feature_importance)\n",
    "\n",
    "# Get average result from all k-fold splits\n",
    "roc_auc_ovr_mean = np.mean(roc_auc_ovr_kfold)\n",
    "accuracy_mean = np.mean(accuracy_kfold)\n",
    "error_within_one_mean = np.mean(error_within_one_kfold)\n",
    "\n",
    "print (f'All features, AUC: {roc_auc_ovr_mean:0.3f} '\n",
    "       f'(std across 5 kfolds: {np.std(roc_auc_ovr_kfold):0.3f})')\n",
    "\n",
    "print (f'All features, accuracy: {accuracy_mean:0.3f} '\n",
    "       f'(std across 5 kfolds: {np.std(accuracy_kfold):0.3f})')\n",
    "\n",
    "print (f'All features, accuracy within one: {error_within_one_mean:0.3f} '\n",
    "       f'(std across 5 kfolds: {np.std(error_within_one_kfold):0.3f})')"
   ]
  },
  {
   "cell_type": "markdown",
   "metadata": {},
   "source": [
    "Check that the five ROC AUC are not identical (to give the stddev 0)"
   ]
  },
  {
   "cell_type": "code",
   "execution_count": 72,
   "metadata": {},
   "outputs": [
    {
     "data": {
      "text/plain": [
       "[0.813486711089495,\n",
       " 0.8100698007345907,\n",
       " 0.8131159846953937,\n",
       " 0.815235269138486,\n",
       " 0.8137205616482808]"
      ]
     },
     "execution_count": 72,
     "metadata": {},
     "output_type": "execute_result"
    }
   ],
   "source": [
    "roc_auc_ovr_kfold"
   ]
  },
  {
   "cell_type": "markdown",
   "metadata": {},
   "source": [
    "## Fit XGBoost model\n",
    "\n",
    "Loop through each feature in turn and train an XGBoost model with that feature added to the dataset (for each k-fold split). Choose the single best feature to add to the model in terms of performance from the ROC AUC using one vs rest (mean of the k-fold splits).\n",
    "\n",
    "Repeat until 25 features have been selected."
   ]
  },
  {
   "cell_type": "code",
   "execution_count": 75,
   "metadata": {},
   "outputs": [
    {
     "name": "stdout",
     "output_type": "stream",
     "text": [
      "Feature  1: prior_disability, AUC: 0.691\n",
      "Feature  2: stroke_severity, AUC: 0.772\n",
      "Feature  3: stroke_team, AUC: 0.801\n",
      "Feature  4: age, AUC: 0.805\n",
      "Feature  5: year, AUC: 0.809\n",
      "Feature  6: nihss_arrival_loc, AUC: 0.811\n",
      "Feature  7: scan_to_thrombolysis_time, AUC: 0.813\n",
      "Feature  8: thrombolysis_no_but_improving, AUC: 0.814\n",
      "Feature  9: nihss_arrival_motor_arm_left, AUC: 0.815\n",
      "Feature 10: nihss_arrival_best_gaze, AUC: 0.815\n",
      "Feature 11: nihss_arrival_motor_arm_right, AUC: 0.816\n",
      "Feature 12: male, AUC: 0.816\n",
      "Feature 13: month, AUC: 0.816\n",
      "Feature 14: nihss_arrival_dysarthria, AUC: 0.816\n",
      "Feature 15: infarction, AUC: 0.816\n",
      "Feature 16: arrive_by_ambulance, AUC: 0.816\n",
      "Feature 17: thrombolysis_no_but_too_mild_severe, AUC: 0.816\n",
      "Feature 18: diabetes, AUC: 0.817\n",
      "Feature 19: thrombolysis_no_but_haemorrhagic, AUC: 0.817\n",
      "Feature 20: nihss_arrival_motor_leg_right, AUC: 0.817\n",
      "Feature 21: nihss_arrival_sensory, AUC: 0.817\n",
      "Feature 22: afib_antiplatelet, AUC: 0.817\n",
      "Feature 23: thrombolysis_no_but_other_medical, AUC: 0.817\n",
      "Feature 24: nihss_arrival_best_language, AUC: 0.817\n",
      "Feature 25: congestive_heart_failure, AUC: 0.817\n"
     ]
    }
   ],
   "source": [
    "# Create list to store accuracies and chosen features\n",
    "roc_auc_by_feature_number = []\n",
    "roc_auc_by_feature_number_kfold = []\n",
    "chosen_features = []\n",
    "\n",
    "# Initialise chosen features list and run tracker\n",
    "available_features = list(train_data[0].drop('discharge_disability', axis=1))\n",
    "number_of_features = len(available_features)\n",
    "\n",
    "# Loop through number of features\n",
    "for i in range (25):\n",
    "    \n",
    "    # Reset best feature and accuracy\n",
    "    best_result = 0\n",
    "    best_feature = ''\n",
    "    \n",
    "    # Loop through available features\n",
    "    for feature in available_features:\n",
    "\n",
    "        # Create copy of already chosen features to avoid original being changed\n",
    "        features_to_use = chosen_features.copy()\n",
    "        # Create a list of features from features already chosen + 1 new feature\n",
    "        features_to_use.append(feature)\n",
    "        \n",
    "        # Set up a list to hold AUC results for this feature for each kfold\n",
    "        feature_roc_auc_ovr_kfold = []\n",
    "        \n",
    "        # Loop through k folds\n",
    "        for k_fold in range(5):\n",
    "\n",
    "            # Get k fold split\n",
    "            train = train_data[k_fold]\n",
    "            test = test_data[k_fold]\n",
    "\n",
    "            # Get X and y\n",
    "            X_train = train.drop('discharge_disability', axis=1)\n",
    "            X_test = test.drop('discharge_disability', axis=1)\n",
    "            y_train = train['discharge_disability']\n",
    "            y_test = test['discharge_disability']\n",
    "            \n",
    "            # Restrict features\n",
    "            X_train = X_train[features_to_use]\n",
    "            X_test = X_test[features_to_use]\n",
    "\n",
    "            # One hot encode categorical features\n",
    "            for cat_feature, prefix in zip(features_to_one_hot, list_prefix):\n",
    "                if cat_feature in features_to_use:\n",
    "                    X_train = convert_feature_to_one_hot(X_train, cat_feature, prefix)\n",
    "                    X_test = convert_feature_to_one_hot(X_test, cat_feature, prefix)\n",
    "\n",
    "            # Define model\n",
    "            model = XGBClassifier(verbosity = 0, seed=42, learning_rate=0.5)\n",
    "\n",
    "            # Fit model\n",
    "            model.fit(X_train, y_train)\n",
    "\n",
    "            # Get predicted probabilities\n",
    "            y_probs = model.predict_proba(X_test)\n",
    "            \n",
    "            # Calculate ROC AUC for multiclass models, using One vs Rest\n",
    "            feature_roc_auc_ovr = roc_auc_score(y_test, y_probs, labels = classes, \n",
    "                                multi_class = 'ovr', average = 'macro')\n",
    "            feature_roc_auc_ovr_kfold.append(feature_roc_auc_ovr)\n",
    "\n",
    "        \n",
    "        # Get average result from all k-fold splits\n",
    "        feature_auc_mean = np.mean(feature_roc_auc_ovr_kfold)\n",
    "    \n",
    "        # Update chosen feature and result if this feature is a new best\n",
    "        if feature_auc_mean > best_result:\n",
    "            best_result = feature_auc_mean\n",
    "            best_result_kfold = feature_roc_auc_ovr_kfold\n",
    "            best_feature = feature\n",
    "            \n",
    "    # k-fold splits are complete    \n",
    "    # Add mean accuracy and AUC to record of accuracy by feature number\n",
    "    roc_auc_by_feature_number.append(best_result)\n",
    "    roc_auc_by_feature_number_kfold.append(best_result_kfold)\n",
    "    chosen_features.append(best_feature)\n",
    "    available_features.remove(best_feature)\n",
    "            \n",
    "    print (f'Feature {i+1:2.0f}: {best_feature}, AUC: {best_result:0.3f}')"
   ]
  },
  {
   "cell_type": "markdown",
   "metadata": {},
   "source": [
    "Create a dataframe that contains the chosen features, and their mean ROC AUC across the k-fold splits, and the standard deviation."
   ]
  },
  {
   "cell_type": "code",
   "execution_count": 76,
   "metadata": {},
   "outputs": [
    {
     "data": {
      "text/html": [
       "<div>\n",
       "<style scoped>\n",
       "    .dataframe tbody tr th:only-of-type {\n",
       "        vertical-align: middle;\n",
       "    }\n",
       "\n",
       "    .dataframe tbody tr th {\n",
       "        vertical-align: top;\n",
       "    }\n",
       "\n",
       "    .dataframe thead th {\n",
       "        text-align: right;\n",
       "    }\n",
       "</style>\n",
       "<table border=\"1\" class=\"dataframe\">\n",
       "  <thead>\n",
       "    <tr style=\"text-align: right;\">\n",
       "      <th></th>\n",
       "      <th>number_features</th>\n",
       "      <th>feature</th>\n",
       "      <th>AUC</th>\n",
       "      <th>AUC_Std</th>\n",
       "    </tr>\n",
       "  </thead>\n",
       "  <tbody>\n",
       "    <tr>\n",
       "      <th>0</th>\n",
       "      <td>1</td>\n",
       "      <td>prior_disability</td>\n",
       "      <td>0.690868</td>\n",
       "      <td>NaN</td>\n",
       "    </tr>\n",
       "    <tr>\n",
       "      <th>1</th>\n",
       "      <td>2</td>\n",
       "      <td>stroke_severity</td>\n",
       "      <td>0.771864</td>\n",
       "      <td>NaN</td>\n",
       "    </tr>\n",
       "    <tr>\n",
       "      <th>2</th>\n",
       "      <td>3</td>\n",
       "      <td>stroke_team</td>\n",
       "      <td>0.801343</td>\n",
       "      <td>NaN</td>\n",
       "    </tr>\n",
       "    <tr>\n",
       "      <th>3</th>\n",
       "      <td>4</td>\n",
       "      <td>age</td>\n",
       "      <td>0.805202</td>\n",
       "      <td>NaN</td>\n",
       "    </tr>\n",
       "    <tr>\n",
       "      <th>4</th>\n",
       "      <td>5</td>\n",
       "      <td>year</td>\n",
       "      <td>0.808704</td>\n",
       "      <td>NaN</td>\n",
       "    </tr>\n",
       "    <tr>\n",
       "      <th>5</th>\n",
       "      <td>6</td>\n",
       "      <td>nihss_arrival_loc</td>\n",
       "      <td>0.811169</td>\n",
       "      <td>NaN</td>\n",
       "    </tr>\n",
       "    <tr>\n",
       "      <th>6</th>\n",
       "      <td>7</td>\n",
       "      <td>scan_to_thrombolysis_time</td>\n",
       "      <td>0.812777</td>\n",
       "      <td>NaN</td>\n",
       "    </tr>\n",
       "    <tr>\n",
       "      <th>7</th>\n",
       "      <td>8</td>\n",
       "      <td>thrombolysis_no_but_improving</td>\n",
       "      <td>0.813740</td>\n",
       "      <td>NaN</td>\n",
       "    </tr>\n",
       "    <tr>\n",
       "      <th>8</th>\n",
       "      <td>9</td>\n",
       "      <td>nihss_arrival_motor_arm_left</td>\n",
       "      <td>0.814987</td>\n",
       "      <td>NaN</td>\n",
       "    </tr>\n",
       "    <tr>\n",
       "      <th>9</th>\n",
       "      <td>10</td>\n",
       "      <td>nihss_arrival_best_gaze</td>\n",
       "      <td>0.815241</td>\n",
       "      <td>NaN</td>\n",
       "    </tr>\n",
       "    <tr>\n",
       "      <th>10</th>\n",
       "      <td>11</td>\n",
       "      <td>nihss_arrival_motor_arm_right</td>\n",
       "      <td>0.815600</td>\n",
       "      <td>NaN</td>\n",
       "    </tr>\n",
       "    <tr>\n",
       "      <th>11</th>\n",
       "      <td>12</td>\n",
       "      <td>male</td>\n",
       "      <td>0.815930</td>\n",
       "      <td>NaN</td>\n",
       "    </tr>\n",
       "    <tr>\n",
       "      <th>12</th>\n",
       "      <td>13</td>\n",
       "      <td>month</td>\n",
       "      <td>0.816037</td>\n",
       "      <td>NaN</td>\n",
       "    </tr>\n",
       "    <tr>\n",
       "      <th>13</th>\n",
       "      <td>14</td>\n",
       "      <td>nihss_arrival_dysarthria</td>\n",
       "      <td>0.816301</td>\n",
       "      <td>NaN</td>\n",
       "    </tr>\n",
       "    <tr>\n",
       "      <th>14</th>\n",
       "      <td>15</td>\n",
       "      <td>infarction</td>\n",
       "      <td>0.816301</td>\n",
       "      <td>NaN</td>\n",
       "    </tr>\n",
       "    <tr>\n",
       "      <th>15</th>\n",
       "      <td>16</td>\n",
       "      <td>arrive_by_ambulance</td>\n",
       "      <td>0.816301</td>\n",
       "      <td>NaN</td>\n",
       "    </tr>\n",
       "    <tr>\n",
       "      <th>16</th>\n",
       "      <td>17</td>\n",
       "      <td>thrombolysis_no_but_too_mild_severe</td>\n",
       "      <td>0.816277</td>\n",
       "      <td>NaN</td>\n",
       "    </tr>\n",
       "    <tr>\n",
       "      <th>17</th>\n",
       "      <td>18</td>\n",
       "      <td>diabetes</td>\n",
       "      <td>0.816525</td>\n",
       "      <td>NaN</td>\n",
       "    </tr>\n",
       "    <tr>\n",
       "      <th>18</th>\n",
       "      <td>19</td>\n",
       "      <td>thrombolysis_no_but_haemorrhagic</td>\n",
       "      <td>0.816582</td>\n",
       "      <td>NaN</td>\n",
       "    </tr>\n",
       "    <tr>\n",
       "      <th>19</th>\n",
       "      <td>20</td>\n",
       "      <td>nihss_arrival_motor_leg_right</td>\n",
       "      <td>0.816617</td>\n",
       "      <td>NaN</td>\n",
       "    </tr>\n",
       "    <tr>\n",
       "      <th>20</th>\n",
       "      <td>21</td>\n",
       "      <td>nihss_arrival_sensory</td>\n",
       "      <td>0.816697</td>\n",
       "      <td>NaN</td>\n",
       "    </tr>\n",
       "    <tr>\n",
       "      <th>21</th>\n",
       "      <td>22</td>\n",
       "      <td>afib_antiplatelet</td>\n",
       "      <td>0.816891</td>\n",
       "      <td>NaN</td>\n",
       "    </tr>\n",
       "    <tr>\n",
       "      <th>22</th>\n",
       "      <td>23</td>\n",
       "      <td>thrombolysis_no_but_other_medical</td>\n",
       "      <td>0.816755</td>\n",
       "      <td>NaN</td>\n",
       "    </tr>\n",
       "    <tr>\n",
       "      <th>23</th>\n",
       "      <td>24</td>\n",
       "      <td>nihss_arrival_best_language</td>\n",
       "      <td>0.816884</td>\n",
       "      <td>NaN</td>\n",
       "    </tr>\n",
       "    <tr>\n",
       "      <th>24</th>\n",
       "      <td>25</td>\n",
       "      <td>congestive_heart_failure</td>\n",
       "      <td>0.816943</td>\n",
       "      <td>NaN</td>\n",
       "    </tr>\n",
       "  </tbody>\n",
       "</table>\n",
       "</div>"
      ],
      "text/plain": [
       "    number_features                              feature       AUC  AUC_Std\n",
       "0                 1                     prior_disability  0.690868      NaN\n",
       "1                 2                      stroke_severity  0.771864      NaN\n",
       "2                 3                          stroke_team  0.801343      NaN\n",
       "3                 4                                  age  0.805202      NaN\n",
       "4                 5                                 year  0.808704      NaN\n",
       "5                 6                    nihss_arrival_loc  0.811169      NaN\n",
       "6                 7            scan_to_thrombolysis_time  0.812777      NaN\n",
       "7                 8        thrombolysis_no_but_improving  0.813740      NaN\n",
       "8                 9         nihss_arrival_motor_arm_left  0.814987      NaN\n",
       "9                10              nihss_arrival_best_gaze  0.815241      NaN\n",
       "10               11        nihss_arrival_motor_arm_right  0.815600      NaN\n",
       "11               12                                 male  0.815930      NaN\n",
       "12               13                                month  0.816037      NaN\n",
       "13               14             nihss_arrival_dysarthria  0.816301      NaN\n",
       "14               15                           infarction  0.816301      NaN\n",
       "15               16                  arrive_by_ambulance  0.816301      NaN\n",
       "16               17  thrombolysis_no_but_too_mild_severe  0.816277      NaN\n",
       "17               18                             diabetes  0.816525      NaN\n",
       "18               19     thrombolysis_no_but_haemorrhagic  0.816582      NaN\n",
       "19               20        nihss_arrival_motor_leg_right  0.816617      NaN\n",
       "20               21                nihss_arrival_sensory  0.816697      NaN\n",
       "21               22                    afib_antiplatelet  0.816891      NaN\n",
       "22               23    thrombolysis_no_but_other_medical  0.816755      NaN\n",
       "23               24          nihss_arrival_best_language  0.816884      NaN\n",
       "24               25             congestive_heart_failure  0.816943      NaN"
      ]
     },
     "execution_count": 76,
     "metadata": {},
     "output_type": "execute_result"
    }
   ],
   "source": [
    "results = pd.DataFrame()\n",
    "results['number_features'] = range(1, len(chosen_features)+1)\n",
    "results['feature'] = chosen_features\n",
    "results['AUC'] = roc_auc_by_feature_number\n",
    "results['AUC_Std'] = [np.std(auc) for auc in roc_auc_by_feature_number_kfold]\n",
    "results"
   ]
  },
  {
   "cell_type": "code",
   "execution_count": 81,
   "metadata": {},
   "outputs": [],
   "source": [
    "results.to_csv(f'{paths.data_save_path}/{paths.notebook}feature_selection.csv', index=False)"
   ]
  },
  {
   "cell_type": "markdown",
   "metadata": {},
   "source": [
    "## Plot the results\n",
    "Plot a line graph showing the change in mean ROC AUC (across k-fold splits) for the number of features chosen in the model."
   ]
  },
  {
   "cell_type": "code",
   "execution_count": 5,
   "metadata": {},
   "outputs": [],
   "source": [
    "results = pd.read_csv(f'{paths.data_save_path}/{paths.notebook}feature_selection.csv')"
   ]
  },
  {
   "cell_type": "code",
   "execution_count": 12,
   "metadata": {},
   "outputs": [
    {
     "data": {
      "image/png": "[encoded data removed]",
      "text/plain": [
       "<Figure size 1000x600 with 2 Axes>"
      ]
     },
     "metadata": {},
     "output_type": "display_data"
    }
   ],
   "source": [
    "features_to_show = 10\n",
    "\n",
    "fig = plt.figure(figsize=(10,6))\n",
    "\n",
    "ax1 = fig.add_subplot(121)\n",
    "ax1.plot(results['number_features'], results['AUC'])\n",
    "ax1.set_xlabel('Number of features')\n",
    "ax1.set_ylabel('Mean ROC AUC')\n",
    "ax1.set_ylim(0.69, 0.83)\n",
    "ax1.grid()\n",
    "\n",
    "ax2 = fig.add_subplot(122)\n",
    "ax2.plot(results['feature'][:features_to_show],\n",
    "         results['AUC'][:features_to_show])\n",
    "xlabels = list(results['feature'])\n",
    "xlabels = xlabels[:features_to_show]\n",
    "ax2.set_xticklabels(xlabels, rotation=45, ha='right')\n",
    "ax2.set_ylabel('Mean ROC AUC')\n",
    "ax1.set_xlabel('New feature selected')\n",
    "ax2.set_ylim(0.69, 0.83)\n",
    "ax2.grid()\n",
    "\n",
    "plt.tight_layout(pad=1.5)\n",
    "\n",
    "plt.savefig(f'{paths.data_save_path}/{paths.notebook}feature_selection.jpg', dpi=300)\n",
    "plt.show()"
   ]
  },
  {
   "cell_type": "markdown",
   "metadata": {},
   "source": [
    "Save dictionary as a json (to be read in and used by the other notebooks)."
   ]
  },
  {
   "cell_type": "code",
   "execution_count": 84,
   "metadata": {},
   "outputs": [],
   "source": [
    "feature_name_dict = {\n",
    "    \"prior_disability\": \"Prior disability level\",\n",
    "    \"stroke_severity\": \"Stroke severity\",\n",
    "    \"stroke_team\": \"Stroke team\",\n",
    "    \"age\": \"Age\",\n",
    "    \"year\": \"Year\",\n",
    "    \"nihss_arrival_loc\": \"NIHSS arrival loc\",\n",
    "    \"scan_to_thrombolysis_time\": \"Scan-to-thrombolysis time\",\n",
    "    \"thrombolysis_no_but_improving\": \"Thrombolysis-No but improving\",\n",
    "    \"nihss_arrival_motor_arm_left\": \"NIHSS arrival motor arm left\",\n",
    "    \"nihss_arrival_best_gaze\": \"NIHSS arrival best gaze\",\n",
    "    \"nihss_arrival_motor_arm_right\": \"NIHSS arrival motor arm right\",\n",
    "    \"male\": \"Male\",\n",
    "    \"month\": \"Month\",\n",
    "    \"nihss_arrival_dysarthria\": \"NIHSS arrival dysarthria\",\n",
    "    \"infarction\": \"Infarction\",\n",
    "    \"arrive_by_ambulance\": \"Arrive by ambulance\",\n",
    "    \"thrombolysis_no_but_too_mild_severe\": \"Thrombolysis-No but too mild severe\",\n",
    "    \"diabetes\": \"Diabetes\",\n",
    "    \"thrombolysis_no_but_haemorrhagic\": \"Thrombolysis-No but haemorrhagic\",\n",
    "    \"nihss_arrival_motor_leg_right\": \"NIHSS arrival motor leg right\",\n",
    "    \"nihss_arrival_sensory\": \"NIHSS arrival sensory\",\n",
    "    \"afib_antiplatelet\": \"AFIB antiplatelet\",\n",
    "    \"thrombolysis_no_but_other_medical\": \"Thrombolysis-No but other medical\",\n",
    "    \"nihss_arrival_best_language\": \"NIHSS arrival best language\",\n",
    "    \"congestive_heart_failure\": \"Congestive heart failure\"\n",
    "}"
   ]
  },
  {
   "cell_type": "code",
   "execution_count": 85,
   "metadata": {},
   "outputs": [],
   "source": [
    "with open(f'{paths.data_save_path}/{paths.notebook}feature_name_dict.json', \"w+\") as f:\n",
    "    json.dump(feature_name_dict, f)"
   ]
  },
  {
   "cell_type": "code",
   "execution_count": null,
   "metadata": {},
   "outputs": [],
   "source": [
    "end_time = time.time()\n",
    "\n",
    "print(f'Time taken: {end_time - start_time}')"
   ]
  }
 ],
 "metadata": {
  "kernelspec": {
   "display_name": "Python 3.10.11 ('sam10')",
   "language": "python",
   "name": "python3"
  },
  "language_info": {
   "codemirror_mode": {
    "name": "ipython",
    "version": 3
   },
   "file_extension": ".py",
   "mimetype": "text/x-python",
   "name": "python",
   "nbconvert_exporter": "python",
   "pygments_lexer": "ipython3",
   "version": "3.10.11"
  },
  "orig_nbformat": 4,
  "vscode": {
   "interpreter": {
    "hash": "f85b883bff9a8a9f39576b94acbdf6672b3dc17c35647e7395f81e785740a4b3"
   }
  }
 },
 "nbformat": 4,
 "nbformat_minor": 2
}
